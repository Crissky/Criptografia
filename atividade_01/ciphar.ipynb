{
  "nbformat": 4,
  "nbformat_minor": 0,
  "metadata": {
    "colab": {
      "name": "ciphar.ipynb",
      "provenance": [],
      "collapsed_sections": [],
      "toc_visible": true,
      "authorship_tag": "ABX9TyPPFTh4Utq0JU+EO5F30UR8"
    },
    "kernelspec": {
      "name": "python3",
      "display_name": "Python 3"
    }
  },
  "cells": [
    {
      "cell_type": "markdown",
      "metadata": {
        "id": "jrE03Z0c6I4n"
      },
      "source": [
        "# Semana 1 - Atividade 2: Preparação de um texto para ser criptografado\n",
        "\n",
        "No ambiente CoCalc, escreva uma função em Python que recebe um texto e retira do mesmo todos os caracteres que não são letras,  inclusive espaços. O resultado final deve conter apenas letras minúsculas que é uma espécie de \"padrão\" para mensagens que serão cifradas.\n",
        "\n",
        "OBSERVAÇÃO: Se você já fez a atividade anterior, essa tarefa no CoCalc será automaticamente compartilhada com o professor da turma.\n",
        "\n",
        "Segue um vídeo com informações importantes sobre para esse e outros trabalhos."
      ]
    },
    {
      "cell_type": "code",
      "metadata": {
        "id": "hM_vnHTy6WAa"
      },
      "source": [
        "def only_lower_letters(text):\n",
        "    from string import ascii_lowercase\n",
        "    text = text.lower()\n",
        "    text = filter(lambda x: x in ascii_lowercase, text)\n",
        "    text = ''.join(text)\n",
        "\n",
        "    return text"
      ],
      "execution_count": 1,
      "outputs": []
    },
    {
      "cell_type": "code",
      "metadata": {
        "colab": {
          "base_uri": "https://localhost:8080/",
          "height": 35
        },
        "id": "pJMT3Duf7nO5",
        "outputId": "fb8cbeb3-2891-41d2-c6bc-d03c8eb10114"
      },
      "source": [
        "only_lower_letters(\"ASD1132!!!@aASDASdddAD\")"
      ],
      "execution_count": 2,
      "outputs": [
        {
          "output_type": "execute_result",
          "data": {
            "application/vnd.google.colaboratory.intrinsic+json": {
              "type": "string"
            },
            "text/plain": [
              "'asdaasdasdddad'"
            ]
          },
          "metadata": {
            "tags": []
          },
          "execution_count": 2
        }
      ]
    },
    {
      "cell_type": "markdown",
      "metadata": {
        "id": "IIMJJE8nFLFI"
      },
      "source": [
        "# Semana 1 - Atividade 3: Implementando um esquema criptográfico\n",
        "\n",
        "Nesta semana vamos conhecer vários esquemas criptográficos, tanto os antigos como alguns mais modernos.  Após ler sobre vários deles, você deve implementar no CoCalc aquele que você escolher.\n",
        "No link abaixo você encontrará diversos esquemas criptográficos explicados em detalhes, porém deverá escolher algum entre os que forem listados a seguir para poder fazer a atividade.\n",
        "\n",
        "SOBRE A IMPLEMENTAÇÃO\n",
        "Parte (1): No CoCalc implemente uma função que  recebe uma mensagem e retorna a mensagem cifrada de acordo com o esquema escolhido.\n",
        "Parte (2): No Cocacl implemente uma função que recebe uma mensagem cifrada e retorna a mensagem original de acordo com o esquema escolhido.\n",
        "\n",
        "O TRABALHO DEVERÁ SER SOBRE (APENAS UM) DOS SEGUINTES ESQUEMAS CRIPTOGRÁFICOS:\n",
        "(Link no final dessa postagem) \n",
        "As opções estão no menu do lado direito da página Practical Criptography (link no final desta postagem)\n",
        "\n",
        "1. ADFGVX\n",
        "1. ADFGX\n",
        "1. Affine Cipher (Cifra afim)\n",
        "1. Autokey Cipher (Cifra de autochave)\n",
        "1. Baconian Cipher (Cifra de Bacon)\n",
        "1. Bifid Cipher (Cifra Bifid)\n",
        "1. Four-Square Cipher\n",
        "1. Fractionated Morse Cipher  (Código Morse fracionado)\n",
        "1. Hill Cipher (Cifra de Hill)\n",
        "1. Playfair Cipher (Cifra Playfair)\n",
        "1. Polybius Square Cipher\n",
        "1. Straddle Checkerboard Cipher\n",
        "1. Trifid Cipher\n",
        "1. OUTRA CIFRA  QUE VOCÊ ESCOLHER (PODE SER EM OUTRO LOCAL) mas precisa me informar para eu avaliar antes.\n",
        "\n",
        "[Practical Cryptography](http://practicalcryptography.com/ciphers/)"
      ]
    },
    {
      "cell_type": "markdown",
      "metadata": {
        "id": "pZ5WUOLP1GNV"
      },
      "source": [
        "## Atbash Cipher"
      ]
    },
    {
      "cell_type": "code",
      "metadata": {
        "id": "lj65SBbWwSW8"
      },
      "source": [
        "class AtbashCipher:\n",
        "    def __init__(self):\n",
        "        import string\n",
        "        self.alphabet = string.ascii_lowercase\n",
        "        self.reverse_alphabet = self.alphabet[::-1]\n",
        "    \n",
        "    def map_function(self, letter):\n",
        "        new_letter = letter.lower()\n",
        "        if (new_letter in self.alphabet):\n",
        "            new_letter = (self.reverse_alphabet[self.alphabet.index(new_letter)])\n",
        "        \n",
        "        return new_letter\n",
        "\n",
        "    def encrypt(self, message):\n",
        "        encrypted_message = map(self.map_function, message)\n",
        "        encrypted_message = ''.join(encrypted_message)\n",
        "\n",
        "        return encrypted_message"
      ],
      "execution_count": 3,
      "outputs": []
    },
    {
      "cell_type": "code",
      "metadata": {
        "id": "fwWBTwULw5Jl"
      },
      "source": [
        "ac = AtbashCipher()"
      ],
      "execution_count": 4,
      "outputs": []
    },
    {
      "cell_type": "code",
      "metadata": {
        "colab": {
          "base_uri": "https://localhost:8080/",
          "height": 35
        },
        "id": "m0OLKY8F0U9Q",
        "outputId": "0b2a32c0-b977-47aa-e639-1cd3cf50c4fc"
      },
      "source": [
        "ciphar = ac.encrypt('ATTACK AT DAWN')\n",
        "ciphar"
      ],
      "execution_count": 5,
      "outputs": [
        {
          "output_type": "execute_result",
          "data": {
            "application/vnd.google.colaboratory.intrinsic+json": {
              "type": "string"
            },
            "text/plain": [
              "'zggzxp zg wzdm'"
            ]
          },
          "metadata": {
            "tags": []
          },
          "execution_count": 5
        }
      ]
    },
    {
      "cell_type": "code",
      "metadata": {
        "colab": {
          "base_uri": "https://localhost:8080/",
          "height": 35
        },
        "id": "wMMPmATP0a5X",
        "outputId": "45c421c0-3e44-45c8-f98d-d08ca2d745e0"
      },
      "source": [
        "ac.encrypt(ciphar)"
      ],
      "execution_count": 6,
      "outputs": [
        {
          "output_type": "execute_result",
          "data": {
            "application/vnd.google.colaboratory.intrinsic+json": {
              "type": "string"
            },
            "text/plain": [
              "'attack at dawn'"
            ]
          },
          "metadata": {
            "tags": []
          },
          "execution_count": 6
        }
      ]
    },
    {
      "cell_type": "markdown",
      "metadata": {
        "id": "1Bc-Ay627THu"
      },
      "source": [
        "## Caesar Cipher"
      ]
    },
    {
      "cell_type": "code",
      "metadata": {
        "id": "KnkHABSf313z"
      },
      "source": [
        "class CaesarCipher:\n",
        "    def __init__(self):\n",
        "        import string\n",
        "        self.alphabet = string.ascii_lowercase\n",
        "    \n",
        "    def map_function(self, letter):\n",
        "        new_letter = letter.lower()\n",
        "        if (new_letter in self.alphabet):\n",
        "            index = (self.alphabet.index(new_letter) + self.key) % len(self.alphabet)\n",
        "            new_letter = (self.alphabet[index])\n",
        "        \n",
        "        return new_letter\n",
        "\n",
        "    def encrypt(self, message, key):\n",
        "        self.key = key\n",
        "        encrypted_message = map(self.map_function, message)\n",
        "        encrypted_message = ''.join(encrypted_message)\n",
        "\n",
        "        return encrypted_message\n",
        "    \n",
        "    def decrypt(self, message, key):\n",
        "        return self.encrypt(message, -key)"
      ],
      "execution_count": 7,
      "outputs": []
    },
    {
      "cell_type": "code",
      "metadata": {
        "id": "8vdbMwNF7eFM"
      },
      "source": [
        "cc = CaesarCipher()"
      ],
      "execution_count": 8,
      "outputs": []
    },
    {
      "cell_type": "code",
      "metadata": {
        "colab": {
          "base_uri": "https://localhost:8080/",
          "height": 35
        },
        "id": "g0dnss5J7hqP",
        "outputId": "19523f50-4f8b-4b88-b8d4-76ddfad87a33"
      },
      "source": [
        "ciphar = cc.encrypt('defend the east wall of the castle', 1)\n",
        "ciphar"
      ],
      "execution_count": 9,
      "outputs": [
        {
          "output_type": "execute_result",
          "data": {
            "application/vnd.google.colaboratory.intrinsic+json": {
              "type": "string"
            },
            "text/plain": [
              "'efgfoe uif fbtu xbmm pg uif dbtumf'"
            ]
          },
          "metadata": {
            "tags": []
          },
          "execution_count": 9
        }
      ]
    },
    {
      "cell_type": "code",
      "metadata": {
        "colab": {
          "base_uri": "https://localhost:8080/",
          "height": 35
        },
        "id": "ZXq-vEbN71-Q",
        "outputId": "374971d2-d86a-4daf-f1d8-54bcdae0f0ec"
      },
      "source": [
        "cc.decrypt(ciphar, 1)"
      ],
      "execution_count": 10,
      "outputs": [
        {
          "output_type": "execute_result",
          "data": {
            "application/vnd.google.colaboratory.intrinsic+json": {
              "type": "string"
            },
            "text/plain": [
              "'defend the east wall of the castle'"
            ]
          },
          "metadata": {
            "tags": []
          },
          "execution_count": 10
        }
      ]
    },
    {
      "cell_type": "markdown",
      "metadata": {
        "id": "7gZ_UulC3mGF"
      },
      "source": [
        "## ROT13 Cipher"
      ]
    },
    {
      "cell_type": "code",
      "metadata": {
        "id": "Z8YYj9tL3m_I"
      },
      "source": [
        "class ROT13Cipher(CaesarCipher):\n",
        "    def encrypt(self, message):\n",
        "        return super().encrypt(message, 13)\n",
        "    \n",
        "    def decrypt(self, message):\n",
        "        return super().encrypt(message, -13)"
      ],
      "execution_count": 11,
      "outputs": []
    },
    {
      "cell_type": "code",
      "metadata": {
        "id": "ppft_FBr5h3g"
      },
      "source": [
        "r13 = ROT13Cipher()"
      ],
      "execution_count": 12,
      "outputs": []
    },
    {
      "cell_type": "code",
      "metadata": {
        "colab": {
          "base_uri": "https://localhost:8080/",
          "height": 35
        },
        "id": "keSdzLGY5krn",
        "outputId": "33ab0456-4af9-4dd7-d677-17ddfe90a9d7"
      },
      "source": [
        "ciphar = r13.encrypt('ATTACK AT DAWN')\n",
        "ciphar"
      ],
      "execution_count": 13,
      "outputs": [
        {
          "output_type": "execute_result",
          "data": {
            "application/vnd.google.colaboratory.intrinsic+json": {
              "type": "string"
            },
            "text/plain": [
              "'nggnpx ng qnja'"
            ]
          },
          "metadata": {
            "tags": []
          },
          "execution_count": 13
        }
      ]
    },
    {
      "cell_type": "code",
      "metadata": {
        "colab": {
          "base_uri": "https://localhost:8080/",
          "height": 35
        },
        "id": "n1p7gew27-UX",
        "outputId": "98ab1b5e-9594-4805-dedf-d9fde30aa17f"
      },
      "source": [
        "r13.decrypt(ciphar)"
      ],
      "execution_count": 14,
      "outputs": [
        {
          "output_type": "execute_result",
          "data": {
            "application/vnd.google.colaboratory.intrinsic+json": {
              "type": "string"
            },
            "text/plain": [
              "'attack at dawn'"
            ]
          },
          "metadata": {
            "tags": []
          },
          "execution_count": 14
        }
      ]
    },
    {
      "cell_type": "markdown",
      "metadata": {
        "id": "yCjY_IttaSGe"
      },
      "source": [
        "## Affine Cipher"
      ]
    },
    {
      "cell_type": "code",
      "metadata": {
        "id": "J7oWFtdD8A6A"
      },
      "source": [
        "class AffineCipher:\n",
        "    def __init__(self):\n",
        "        from string import ascii_lowercase\n",
        "        self.alphabet = ascii_lowercase\n",
        "\n",
        "    def map_function_a(self, letter):\n",
        "        new_letter = letter.lower()\n",
        "        if (new_letter in self.alphabet):\n",
        "            index = (self.key_a * self.alphabet.index(new_letter) + self.key_b)\n",
        "            index = index % len(self.alphabet)\n",
        "            new_letter = (self.alphabet[index])\n",
        "        \n",
        "        return new_letter\n",
        "\n",
        "    def map_function_b(self, letter):\n",
        "        new_letter = letter.lower()\n",
        "        if (new_letter in self.alphabet):\n",
        "            index = self.key_a * (self.alphabet.index(new_letter) - self.key_b)\n",
        "            index = index % len(self.alphabet)\n",
        "            new_letter = (self.alphabet[index])\n",
        "        \n",
        "        return new_letter\n",
        "\n",
        "    def encrypt(self, message, key_a, key_b):\n",
        "        self.key_a = key_a\n",
        "        self.key_b = key_b\n",
        "        if self.is_key_a():\n",
        "            raise Exception(\"'{}' não é uma chave válida\".format(self.key_a))\n",
        "\n",
        "        encrypted_message = map(self.map_function_a, message)\n",
        "        encrypted_message = ''.join(encrypted_message)\n",
        "\n",
        "        return encrypted_message\n",
        "    \n",
        "    def decrypt(self, message, key_a, key_b):\n",
        "        self.key_a = self.search_inverse()\n",
        "        self.key_b = key_b\n",
        "        encrypted_message = map(self.map_function_b, message)\n",
        "        encrypted_message = ''.join(encrypted_message)\n",
        "\n",
        "        return encrypted_message\n",
        "\n",
        "    def is_key_a(self):\n",
        "        check = False\n",
        "        len_alphabet = len(self.alphabet)\n",
        "        for value in range(2, (min( self.key_a, len_alphabet ) // 2) + 2):\n",
        "            if(self.key_a  % value == 0 and len_alphabet % value == 0):\n",
        "                check = True\n",
        "            \n",
        "        return check\n",
        "\n",
        "    def search_inverse(self):\n",
        "        len_alphabet = len(self.alphabet)\n",
        "\n",
        "        for inverse in range(len_alphabet):\n",
        "            if((self.key_a * inverse) % len_alphabet == 1):\n",
        "                return inverse\n"
      ],
      "execution_count": 15,
      "outputs": []
    },
    {
      "cell_type": "code",
      "metadata": {
        "id": "pzooK6ggM9K0"
      },
      "source": [
        "ac = AffineCipher()"
      ],
      "execution_count": 16,
      "outputs": []
    },
    {
      "cell_type": "code",
      "metadata": {
        "colab": {
          "base_uri": "https://localhost:8080/",
          "height": 35
        },
        "id": "7Ppof-4rYLFB",
        "outputId": "31e34cc2-2050-4a97-9d83-49a4783c1952"
      },
      "source": [
        "key_a = 5\n",
        "key_b = 7\n",
        "cyphar = ac.encrypt('defend the east wall of the castle', key_a, key_b)\n",
        "\n",
        "cyphar"
      ],
      "execution_count": 17,
      "outputs": [
        {
          "output_type": "execute_result",
          "data": {
            "application/vnd.google.colaboratory.intrinsic+json": {
              "type": "string"
            },
            "text/plain": [
              "'wbgbuw yqb bhty nhkk zg yqb rhtykb'"
            ]
          },
          "metadata": {
            "tags": []
          },
          "execution_count": 17
        }
      ]
    },
    {
      "cell_type": "code",
      "metadata": {
        "colab": {
          "base_uri": "https://localhost:8080/",
          "height": 35
        },
        "id": "vPdJOscEYfVo",
        "outputId": "4adb10c1-0c2c-44ba-9077-e73e079e6294"
      },
      "source": [
        "ac.decrypt(cyphar, key_a, key_b)"
      ],
      "execution_count": 18,
      "outputs": [
        {
          "output_type": "execute_result",
          "data": {
            "application/vnd.google.colaboratory.intrinsic+json": {
              "type": "string"
            },
            "text/plain": [
              "'defend the east wall of the castle'"
            ]
          },
          "metadata": {
            "tags": []
          },
          "execution_count": 18
        }
      ]
    },
    {
      "cell_type": "markdown",
      "metadata": {
        "id": "cnAETsUUaWP7"
      },
      "source": [
        "## Polybius Square Cipher"
      ]
    },
    {
      "cell_type": "code",
      "metadata": {
        "id": "bq2fNyodaWuR"
      },
      "source": [
        "class PolybiusSquareCipher:\n",
        "    def only_lower_letters(text):\n",
        "        from string import ascii_lowercase\n",
        "        text = text.lower()\n",
        "        text = filter(lambda x: x in ascii_lowercase, text)\n",
        "        text = ''.join(text)\n",
        "\n",
        "        return text\n",
        "\n",
        "    def map_function_a(self, letter):\n",
        "        new_letter = letter.lower()\n",
        "        if(new_letter in self.key):\n",
        "            index_new_letter = self.key.index(new_letter)\n",
        "            index_column = index_new_letter // len(self.column)\n",
        "            index_row = index_new_letter % len(self.row)\n",
        "            new_letter = self.column[index_column] + self.row[index_row]\n",
        "\n",
        "        return new_letter\n",
        "\n",
        "    def map_function_b(self, double_letters):\n",
        "        if(double_letters != double_letters.upper()):\n",
        "            return double_letters\n",
        "            \n",
        "        index_column = self.column.index(double_letters[0])\n",
        "        index_column = index_column * len(self.column)\n",
        "        index_row = self.row.index(double_letters[1])\n",
        "        \n",
        "        index = index_column + index_row\n",
        "\n",
        "        return self.key[index]\n",
        "\n",
        "    def encrypt(self, message, key, column='ABCDE', row='ABCDE'):\n",
        "        self.key = only_lower_letters(key)\n",
        "        if(len(self.key) != 25):\n",
        "            raise Exception(\"'{}' não é uma chave válida. Precisa ter 25 letras\".format(self.key))\n",
        "        self.column = column\n",
        "        self.row = row\n",
        "\n",
        "        encrypted_message = map(self.map_function_a, message)\n",
        "        encrypted_message = ''.join(encrypted_message)\n",
        "\n",
        "        return encrypted_message\n",
        "\n",
        "    \n",
        "    def decrypt(self, message, key):\n",
        "        self.key = key\n",
        "        message = message.split(' ')\n",
        "        message = [[word[x]+word[x+1] for x in range(0, len(word), 2)] for word in message]\n",
        "\n",
        "        encrypted_message = [map(self.map_function_b, word) for word in message]\n",
        "        encrypted_message = [list(maps) for maps in encrypted_message]\n",
        "        encrypted_message = list(map(''.join, encrypted_message))\n",
        "        encrypted_message = ' '.join(encrypted_message)\n",
        "\n",
        "        return encrypted_message"
      ],
      "execution_count": 19,
      "outputs": []
    },
    {
      "cell_type": "code",
      "metadata": {
        "id": "-NBJNZUsoIj4"
      },
      "source": [
        "psc = PolybiusSquareCipher()"
      ],
      "execution_count": 20,
      "outputs": []
    },
    {
      "cell_type": "code",
      "metadata": {
        "colab": {
          "base_uri": "https://localhost:8080/",
          "height": 35
        },
        "id": "w36yD5V4oK2H",
        "outputId": "98258780-39af-47c3-a3d6-6b57c703ac0b"
      },
      "source": [
        "key = 'phqgiumeaylnofdxkrcvstzwb'\n",
        "cyphar = psc.encrypt('defend the east wall of the castle', key)\n",
        "\n",
        "cyphar"
      ],
      "execution_count": 21,
      "outputs": [
        {
          "output_type": "execute_result",
          "data": {
            "application/vnd.google.colaboratory.intrinsic+json": {
              "type": "string"
            },
            "text/plain": [
              "'CEBCCDBCCBCE EBABBC BCBDEAEB EDBDCACA CCCD EBABBC DDBDEAEBCABC'"
            ]
          },
          "metadata": {
            "tags": []
          },
          "execution_count": 21
        }
      ]
    },
    {
      "cell_type": "code",
      "metadata": {
        "colab": {
          "base_uri": "https://localhost:8080/",
          "height": 35
        },
        "id": "6d0nb55_pMtg",
        "outputId": "26d0e8ef-f16a-4d7b-e9f1-0afed87325a4"
      },
      "source": [
        "psc.decrypt(cyphar, key)"
      ],
      "execution_count": 22,
      "outputs": [
        {
          "output_type": "execute_result",
          "data": {
            "application/vnd.google.colaboratory.intrinsic+json": {
              "type": "string"
            },
            "text/plain": [
              "'defend the east wall of the castle'"
            ]
          },
          "metadata": {
            "tags": []
          },
          "execution_count": 22
        }
      ]
    }
  ]
}