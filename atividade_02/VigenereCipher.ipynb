{
  "nbformat": 4,
  "nbformat_minor": 0,
  "metadata": {
    "colab": {
      "name": "VigenereCipher.ipynb",
      "provenance": [],
      "collapsed_sections": [],
      "toc_visible": true,
      "authorship_tag": "ABX9TyNKLWASWdsDRFUKL4Q6C3Y1"
    },
    "kernelspec": {
      "name": "python3",
      "display_name": "Python 3"
    }
  },
  "cells": [
    {
      "cell_type": "markdown",
      "metadata": {
        "id": "oorTfEKmg8K_"
      },
      "source": [
        "# Parte 1: Quebra da cifra de deslocamento\r\n",
        "\r\n",
        "No ambiente CoCalc, escreva uma função em Python que recebe um texto cifrado utilizando uma cifra de deslocamento e, através do processo de quebra estudado nesse módulo, encontra a chave que foi utilizada.\r\n",
        "\r\n",
        "* Entrada: Texto cifrado, com cifra de deslocamento, a partir de um texto original escrito em português do Brasil.\r\n",
        "* Saída: Chave utilizada para cifrar o texto.\r\n",
        "* Observação: Para que o processo de análise de frequência funcione adequadamente, será necessário utilizar um texto razoavelmente longo. Utilize um com pelo menos MIL letras. Você pode copiar algum texto da internet, mas fique atento aos acentos e cedilha."
      ]
    },
    {
      "cell_type": "code",
      "metadata": {
        "colab": {
          "base_uri": "https://localhost:8080/"
        },
        "id": "X8ytXAsuettN",
        "outputId": "fc26ec07-3353-452c-a788-0dff9411f72a"
      },
      "source": [
        "!pip install unidecode"
      ],
      "execution_count": 1,
      "outputs": [
        {
          "output_type": "stream",
          "text": [
            "Requirement already satisfied: unidecode in /usr/local/lib/python3.6/dist-packages (1.1.1)\n"
          ],
          "name": "stdout"
        }
      ]
    },
    {
      "cell_type": "markdown",
      "metadata": {
        "id": "omj9cBVIpV08"
      },
      "source": [
        "## Funções"
      ]
    },
    {
      "cell_type": "code",
      "metadata": {
        "id": "dBL03lMif-A6"
      },
      "source": [
        "def only_upper_letters(text):\r\n",
        "    from unidecode import unidecode\r\n",
        "    from string import ascii_uppercase\r\n",
        "    text = unidecode(text)\r\n",
        "    text = text.upper()\r\n",
        "    text = filter(lambda x: x in ascii_uppercase, text)\r\n",
        "    text = ''.join(text)\r\n",
        "\r\n",
        "    return text\r\n",
        "\r\n",
        "def analyze_frequency(text, type_count='p'):\r\n",
        "    from string import ascii_uppercase\r\n",
        "    text = only_upper_letters(text)\r\n",
        "    d = dict()\r\n",
        "    if(type_count == 'p'):\r\n",
        "        for letter in ascii_uppercase:\r\n",
        "            d[letter] = text.count(letter) / len(text)\r\n",
        "    else: \r\n",
        "        for letter in ascii_uppercase:\r\n",
        "            d[letter] = text.count(letter)\r\n",
        "\r\n",
        "    return d\r\n",
        "\r\n",
        "def get_text_constant(text_frequency):\r\n",
        "    i = 0\r\n",
        "    for value in text_frequency.values():\r\n",
        "        i += value**2\r\n",
        "\r\n",
        "    return i\r\n",
        "\r\n",
        "def compare_frequencies(text_frequency, cipher_frequency):\r\n",
        "    p = list(text_frequency.values())\r\n",
        "    q = list(cipher_frequency.values())\r\n",
        "    d = dict()\r\n",
        "    for i in range(1, len(p)+1):\r\n",
        "        d[i] = 0\r\n",
        "        for j in range(0, len(p)):\r\n",
        "            d[i] += p[j] * q[(j+i) % len(q)]\r\n",
        "    \r\n",
        "    return d\r\n"
      ],
      "execution_count": 2,
      "outputs": []
    },
    {
      "cell_type": "markdown",
      "metadata": {
        "id": "lgwhdmxIpcLg"
      },
      "source": [
        "## Classe CaesarCipher"
      ]
    },
    {
      "cell_type": "code",
      "metadata": {
        "id": "2Y074lFJfbEC"
      },
      "source": [
        "class CaesarCipher:\r\n",
        "    def __init__(self):\r\n",
        "        from string import ascii_uppercase\r\n",
        "        self.alphabet = ascii_uppercase\r\n",
        "    \r\n",
        "    def map_function(self, letter):\r\n",
        "        new_letter = letter.upper()\r\n",
        "        if (new_letter in self.alphabet):\r\n",
        "            index = (self.alphabet.index(new_letter) + self.key) % len(self.alphabet)\r\n",
        "            new_letter = (self.alphabet[index])\r\n",
        "        \r\n",
        "        return new_letter\r\n",
        "\r\n",
        "    def encrypt(self, message, key):\r\n",
        "        self.key = key\r\n",
        "        encrypted_message = map(self.map_function, message)\r\n",
        "        encrypted_message = ''.join(encrypted_message)\r\n",
        "\r\n",
        "        return encrypted_message\r\n",
        "    \r\n",
        "    def decrypt(self, message, key):\r\n",
        "        return self.encrypt(message, -key)"
      ],
      "execution_count": 3,
      "outputs": []
    },
    {
      "cell_type": "code",
      "metadata": {
        "colab": {
          "base_uri": "https://localhost:8080/",
          "height": 120
        },
        "id": "wYw2Y0wpmbuC",
        "outputId": "8c3819bc-f2e0-4150-cd35-2a7b7fc9cb24"
      },
      "source": [
        "text = \"\"\"A prática cotidiana prova que a constante divulgação das informações oferece uma interessante oportunidade para verificação do sistema de participação geral. Por outro lado, a contínua expansão de nossa atividade obstaculiza a apreciação da importância dos conhecimentos estratégicos para atingir a excelência. É importante questionar o quanto a revolução dos costumes nos obriga à análise das diretrizes de desenvolvimento para o futuro. O cuidado em identificar pontos críticos na execução dos pontos do programa causa impacto indireto na reavaliação dos paradigmas corporativos.\r\n",
        "\r\n",
        "          Nunca é demais lembrar o peso e o significado destes problemas, uma vez que a competitividade nas transações comerciais faz parte de um processo de gerenciamento dos modos de operação convencionais. No mundo atual, o desafiador cenário globalizado possibilita uma melhor visão global dos níveis de motivação departamental. Desta maneira, o início da atividade geral de formação de atitudes pode nos levar a considerar a reestruturação do orçamento setorial.\r\n",
        "\r\n",
        "          O incentivo ao avanço tecnológico, assim como o consenso sobre a necessidade de qualificação deve passar por modificações independentemente do retorno esperado a longo prazo. No entanto, não podemos esquecer que o comprometimento entre as equipes auxilia a preparação e a composição dos índices pretendidos. Todas estas questões, devidamente ponderadas, levantam dúvidas sobre se o novo modelo estrutural aqui preconizado assume importantes posições no estabelecimento do fluxo de informações. Caros amigos, o acompanhamento das preferências de consumo é uma das consequências dos métodos utilizados na avaliação de resultados. É claro que o surgimento do comércio virtual garante a contribuição de um grupo importante na determinação dos relacionamentos verticais entre as hierarquias.\r\n",
        "\r\n",
        "          Ainda assim, existem dúvidas a respeito de como a determinação clara de objetivos ainda não demonstrou convincentemente que vai participar na mudança de alternativas às soluções ortodoxas. O que temos que ter sempre em mente é que o entendimento das metas propostas exige a precisão e a definição do levantamento das variáveis envolvidas. O empenho em analisar a hegemonia do ambiente político facilita a criação do sistema de formação de quadros que corresponde às necessidades. Por conseguinte, o desenvolvimento contínuo de distintas formas de atuação apresenta tendências no sentido de aprovar a manutenção das regras de conduta normativas. Acima de tudo, é fundamental ressaltar que a consulta aos diversos militantes cumpre um papel essencial na formulação da gestão inovadora da qual fazemos parte.\r\n",
        "\r\n",
        "          Percebemos, cada vez mais, que a necessidade de renovação processual acarreta um processo de reformulação e modernização do impacto na agilidade decisória. A nível organizacional, a consolidação das estruturas estende o alcance e a importância das direções preferenciais no sentido do progresso. Podemos já vislumbrar o modo pelo qual o fenômeno da Internet estimula a padronização das novas proposições.\"\"\"\r\n",
        "\r\n",
        "text = only_upper_letters(text)\r\n",
        "\r\n",
        "text"
      ],
      "execution_count": 4,
      "outputs": [
        {
          "output_type": "execute_result",
          "data": {
            "application/vnd.google.colaboratory.intrinsic+json": {
              "type": "string"
            },
            "text/plain": [
              "'APRATICACOTIDIANAPROVAQUEACONSTANTEDIVULGACAODASINFORMACOESOFERECEUMAINTERESSANTEOPORTUNIDADEPARAVERIFICACAODOSISTEMADEPARTICIPACAOGERALPOROUTROLADOACONTINUAEXPANSAODENOSSAATIVIDADEOBSTACULIZAAAPRECIACAODAIMPORTANCIADOSCONHECIMENTOSESTRATEGICOSPARAATINGIRAEXCELENCIAEIMPORTANTEQUESTIONAROQUANTOAREVOLUCAODOSCOSTUMESNOSOBRIGAAANALISEDASDIRETRIZESDEDESENVOLVIMENTOPARAOFUTUROOCUIDADOEMIDENTIFICARPONTOSCRITICOSNAEXECUCAODOSPONTOSDOPROGRAMACAUSAIMPACTOINDIRETONAREAVALIACAODOSPARADIGMASCORPORATIVOSNUNCAEDEMAISLEMBRAROPESOEOSIGNIFICADODESTESPROBLEMASUMAVEZQUEACOMPETITIVIDADENASTRANSACOESCOMERCIAISFAZPARTEDEUMPROCESSODEGERENCIAMENTODOSMODOSDEOPERACAOCONVENCIONAISNOMUNDOATUALODESAFIADORCENARIOGLOBALIZADOPOSSIBILITAUMAMELHORVISAOGLOBALDOSNIVEISDEMOTIVACAODEPARTAMENTALDESTAMANEIRAOINICIODAATIVIDADEGERALDEFORMACAODEATITUDESPODENOSLEVARACONSIDERARAREESTRUTURACAODOORCAMENTOSETORIALOINCENTIVOAOAVANCOTECNOLOGICOASSIMCOMOOCONSENSOSOBREANECESSIDADEDEQUALIFICACAODEVEPASSARPORMODIFICACOESINDEPENDENTEMENTEDORETORNOESPERADOALONGOPRAZONOENTANTONAOPODEMOSESQUECERQUEOCOMPROMETIMENTOENTREASEQUIPESAUXILIAAPREPARACAOEACOMPOSICAODOSINDICESPRETENDIDOSTODASESTASQUESTOESDEVIDAMENTEPONDERADASLEVANTAMDUVIDASSOBRESEONOVOMODELOESTRUTURALAQUIPRECONIZADOASSUMEIMPORTANTESPOSICOESNOESTABELECIMENTODOFLUXODEINFORMACOESCAROSAMIGOSOACOMPANHAMENTODASPREFERENCIASDECONSUMOEUMADASCONSEQUENCIASDOSMETODOSUTILIZADOSNAAVALIACAODERESULTADOSECLAROQUEOSURGIMENTODOCOMERCIOVIRTUALGARANTEACONTRIBUICAODEUMGRUPOIMPORTANTENADETERMINACAODOSRELACIONAMENTOSVERTICAISENTREASHIERARQUIASAINDAASSIMEXISTEMDUVIDASARESPEITODECOMOADETERMINACAOCLARADEOBJETIVOSAINDANAODEMONSTROUCONVINCENTEMENTEQUEVAIPARTICIPARNAMUDANCADEALTERNATIVASASSOLUCOESORTODOXASOQUETEMOSQUETERSEMPREEMMENTEEQUEOENTENDIMENTODASMETASPROPOSTASEXIGEAPRECISAOEADEFINICAODOLEVANTAMENTODASVARIAVEISENVOLVIDASOEMPENHOEMANALISARAHEGEMONIADOAMBIENTEPOLITICOFACILITAACRIACAODOSISTEMADEFORMACAODEQUADROSQUECORRESPONDEASNECESSIDADESPORCONSEGUINTEODESENVOLVIMENTOCONTINUODEDISTINTASFORMASDEATUACAOAPRESENTATENDENCIASNOSENTIDODEAPROVARAMANUTENCAODASREGRASDECONDUTANORMATIVASACIMADETUDOEFUNDAMENTALRESSALTARQUEACONSULTAAOSDIVERSOSMILITANTESCUMPREUMPAPELESSENCIALNAFORMULACAODAGESTAOINOVADORADAQUALFAZEMOSPARTEPERCEBEMOSCADAVEZMAISQUEANECESSIDADEDERENOVACAOPROCESSUALACARRETAUMPROCESSODEREFORMULACAOEMODERNIZACAODOIMPACTONAAGILIDADEDECISORIAANIVELORGANIZACIONALACONSOLIDACAODASESTRUTURASESTENDEOALCANCEEAIMPORTANCIADASDIRECOESPREFERENCIAISNOSENTIDODOPROGRESSOPODEMOSJAVISLUMBRAROMODOPELOQUALOFENOMENODAINTERNETESTIMULAAPADRONIZACAODASNOVASPROPOSICOES'"
            ]
          },
          "metadata": {
            "tags": []
          },
          "execution_count": 4
        }
      ]
    },
    {
      "cell_type": "markdown",
      "metadata": {
        "id": "mX-NCjMa53ED"
      },
      "source": [
        "### Frequência do Texto"
      ]
    },
    {
      "cell_type": "code",
      "metadata": {
        "colab": {
          "base_uri": "https://localhost:8080/"
        },
        "id": "AsEAKBy5m0FY",
        "outputId": "76c4dd42-8685-4409-f67d-d9ffe706af5f"
      },
      "source": [
        "text_frequency = analyze_frequency(text, 'p')\r\n",
        "text_frequency"
      ],
      "execution_count": 5,
      "outputs": [
        {
          "output_type": "execute_result",
          "data": {
            "text/plain": [
              "{'A': 0.13481828839390386,\n",
              " 'B': 0.005861664712778429,\n",
              " 'C': 0.05275498241500586,\n",
              " 'D': 0.06017975771785854,\n",
              " 'E': 0.1180148495506057,\n",
              " 'F': 0.009378663540445486,\n",
              " 'G': 0.01016021883548261,\n",
              " 'H': 0.0023446658851113715,\n",
              " 'I': 0.07268464243845252,\n",
              " 'J': 0.0007815552950371239,\n",
              " 'K': 0.0,\n",
              " 'L': 0.025400547088706527,\n",
              " 'M': 0.039077764751856196,\n",
              " 'N': 0.06408753419304415,\n",
              " 'O': 0.11488862837045721,\n",
              " 'P': 0.03008987885892927,\n",
              " 'Q': 0.008987885892926924,\n",
              " 'R': 0.06017975771785854,\n",
              " 'S': 0.07581086361860101,\n",
              " 'T': 0.05549042594763579,\n",
              " 'U': 0.032043767096522076,\n",
              " 'V': 0.01875732708089097,\n",
              " 'W': 0.0,\n",
              " 'X': 0.0031262211801484957,\n",
              " 'Y': 0.0,\n",
              " 'Z': 0.005080109417741305}"
            ]
          },
          "metadata": {
            "tags": []
          },
          "execution_count": 5
        }
      ]
    },
    {
      "cell_type": "markdown",
      "metadata": {
        "id": "zGjWUi3Y54A3"
      },
      "source": [
        "### Constante do Texto"
      ]
    },
    {
      "cell_type": "code",
      "metadata": {
        "colab": {
          "base_uri": "https://localhost:8080/"
        },
        "id": "gOUwZShLoqIF",
        "outputId": "b37b214e-04c8-450e-91d2-2f9c5ed02e07"
      },
      "source": [
        "get_text_constant(text_frequency)"
      ],
      "execution_count": 6,
      "outputs": [
        {
          "output_type": "execute_result",
          "data": {
            "text/plain": [
              "0.07835023114520756"
            ]
          },
          "metadata": {
            "tags": []
          },
          "execution_count": 6
        }
      ]
    },
    {
      "cell_type": "code",
      "metadata": {
        "colab": {
          "base_uri": "https://localhost:8080/",
          "height": 120
        },
        "id": "pYCsW7lquPE5",
        "outputId": "64d7f242-bf41-40ba-e81e-a7f3c36e7d9a"
      },
      "source": [
        "cc = CaesarCipher()\r\n",
        "key = 7\r\n",
        "cipher = cc.encrypt(text, key)\r\n",
        "\r\n",
        "cipher"
      ],
      "execution_count": 7,
      "outputs": [
        {
          "output_type": "execute_result",
          "data": {
            "application/vnd.google.colaboratory.intrinsic+json": {
              "type": "string"
            },
            "text/plain": [
              "'HWYHAPJHJVAPKPHUHWYVCHXBLHJVUZAHUALKPCBSNHJHVKHZPUMVYTHJVLZVMLYLJLBTHPUALYLZZHUALVWVYABUPKHKLWHYHCLYPMPJHJHVKVZPZALTHKLWHYAPJPWHJHVNLYHSWVYVBAYVSHKVHJVUAPUBHLEWHUZHVKLUVZZHHAPCPKHKLVIZAHJBSPGHHHWYLJPHJHVKHPTWVYAHUJPHKVZJVUOLJPTLUAVZLZAYHALNPJVZWHYHHAPUNPYHLEJLSLUJPHLPTWVYAHUALXBLZAPVUHYVXBHUAVHYLCVSBJHVKVZJVZABTLZUVZVIYPNHHHUHSPZLKHZKPYLAYPGLZKLKLZLUCVSCPTLUAVWHYHVMBABYVVJBPKHKVLTPKLUAPMPJHYWVUAVZJYPAPJVZUHLELJBJHVKVZWVUAVZKVWYVNYHTHJHBZHPTWHJAVPUKPYLAVUHYLHCHSPHJHVKVZWHYHKPNTHZJVYWVYHAPCVZUBUJHLKLTHPZSLTIYHYVWLZVLVZPNUPMPJHKVKLZALZWYVISLTHZBTHCLGXBLHJVTWLAPAPCPKHKLUHZAYHUZHJVLZJVTLYJPHPZMHGWHYALKLBTWYVJLZZVKLNLYLUJPHTLUAVKVZTVKVZKLVWLYHJHVJVUCLUJPVUHPZUVTBUKVHABHSVKLZHMPHKVYJLUHYPVNSVIHSPGHKVWVZZPIPSPAHBTHTLSOVYCPZHVNSVIHSKVZUPCLPZKLTVAPCHJHVKLWHYAHTLUAHSKLZAHTHULPYHVPUPJPVKHHAPCPKHKLNLYHSKLMVYTHJHVKLHAPABKLZWVKLUVZSLCHYHJVUZPKLYHYHYLLZAYBABYHJHVKVVYJHTLUAVZLAVYPHSVPUJLUAPCVHVHCHUJVALJUVSVNPJVHZZPTJVTVVJVUZLUZVZVIYLHULJLZZPKHKLKLXBHSPMPJHJHVKLCLWHZZHYWVYTVKPMPJHJVLZPUKLWLUKLUALTLUALKVYLAVYUVLZWLYHKVHSVUNVWYHGVUVLUAHUAVUHVWVKLTVZLZXBLJLYXBLVJVTWYVTLAPTLUAVLUAYLHZLXBPWLZHBEPSPHHWYLWHYHJHVLHJVTWVZPJHVKVZPUKPJLZWYLALUKPKVZAVKHZLZAHZXBLZAVLZKLCPKHTLUALWVUKLYHKHZSLCHUAHTKBCPKHZZVIYLZLVUVCVTVKLSVLZAYBABYHSHXBPWYLJVUPGHKVHZZBTLPTWVYAHUALZWVZPJVLZUVLZAHILSLJPTLUAVKVMSBEVKLPUMVYTHJVLZJHYVZHTPNVZVHJVTWHUOHTLUAVKHZWYLMLYLUJPHZKLJVUZBTVLBTHKHZJVUZLXBLUJPHZKVZTLAVKVZBAPSPGHKVZUHHCHSPHJHVKLYLZBSAHKVZLJSHYVXBLVZBYNPTLUAVKVJVTLYJPVCPYABHSNHYHUALHJVUAYPIBPJHVKLBTNYBWVPTWVYAHUALUHKLALYTPUHJHVKVZYLSHJPVUHTLUAVZCLYAPJHPZLUAYLHZOPLYHYXBPHZHPUKHHZZPTLEPZALTKBCPKHZHYLZWLPAVKLJVTVHKLALYTPUHJHVJSHYHKLVIQLAPCVZHPUKHUHVKLTVUZAYVBJVUCPUJLUALTLUALXBLCHPWHYAPJPWHYUHTBKHUJHKLHSALYUHAPCHZHZZVSBJVLZVYAVKVEHZVXBLALTVZXBLALYZLTWYLLTTLUALLXBLVLUALUKPTLUAVKHZTLAHZWYVWVZAHZLEPNLHWYLJPZHVLHKLMPUPJHVKVSLCHUAHTLUAVKHZCHYPHCLPZLUCVSCPKHZVLTWLUOVLTHUHSPZHYHOLNLTVUPHKVHTIPLUALWVSPAPJVMHJPSPAHHJYPHJHVKVZPZALTHKLMVYTHJHVKLXBHKYVZXBLJVYYLZWVUKLHZULJLZZPKHKLZWVYJVUZLNBPUALVKLZLUCVSCPTLUAVJVUAPUBVKLKPZAPUAHZMVYTHZKLHABHJHVHWYLZLUAHALUKLUJPHZUVZLUAPKVKLHWYVCHYHTHUBALUJHVKHZYLNYHZKLJVUKBAHUVYTHAPCHZHJPTHKLABKVLMBUKHTLUAHSYLZZHSAHYXBLHJVUZBSAHHVZKPCLYZVZTPSPAHUALZJBTWYLBTWHWLSLZZLUJPHSUHMVYTBSHJHVKHNLZAHVPUVCHKVYHKHXBHSMHGLTVZWHYALWLYJLILTVZJHKHCLGTHPZXBLHULJLZZPKHKLKLYLUVCHJHVWYVJLZZBHSHJHYYLAHBTWYVJLZZVKLYLMVYTBSHJHVLTVKLYUPGHJHVKVPTWHJAVUHHNPSPKHKLKLJPZVYPHHUPCLSVYNHUPGHJPVUHSHJVUZVSPKHJHVKHZLZAYBABYHZLZALUKLVHSJHUJLLHPTWVYAHUJPHKHZKPYLJVLZWYLMLYLUJPHPZUVZLUAPKVKVWYVNYLZZVWVKLTVZQHCPZSBTIYHYVTVKVWLSVXBHSVMLUVTLUVKHPUALYULALZAPTBSHHWHKYVUPGHJHVKHZUVCHZWYVWVZPJVLZ'"
            ]
          },
          "metadata": {
            "tags": []
          },
          "execution_count": 7
        }
      ]
    },
    {
      "cell_type": "markdown",
      "metadata": {
        "id": "A4ZZSwx65-Y7"
      },
      "source": [
        "### Frequência do Texto Cifrado"
      ]
    },
    {
      "cell_type": "code",
      "metadata": {
        "colab": {
          "base_uri": "https://localhost:8080/"
        },
        "id": "UKJ0orIdudfN",
        "outputId": "33252132-0bcd-4425-9044-29b7ab33fa8b"
      },
      "source": [
        "cipher_frequency = analyze_frequency(cipher, 'p')\r\n",
        "cipher_frequency"
      ],
      "execution_count": 8,
      "outputs": [
        {
          "output_type": "execute_result",
          "data": {
            "text/plain": [
              "{'A': 0.05549042594763579,\n",
              " 'B': 0.032043767096522076,\n",
              " 'C': 0.01875732708089097,\n",
              " 'D': 0.0,\n",
              " 'E': 0.0031262211801484957,\n",
              " 'F': 0.0,\n",
              " 'G': 0.005080109417741305,\n",
              " 'H': 0.13481828839390386,\n",
              " 'I': 0.005861664712778429,\n",
              " 'J': 0.05275498241500586,\n",
              " 'K': 0.06017975771785854,\n",
              " 'L': 0.1180148495506057,\n",
              " 'M': 0.009378663540445486,\n",
              " 'N': 0.01016021883548261,\n",
              " 'O': 0.0023446658851113715,\n",
              " 'P': 0.07268464243845252,\n",
              " 'Q': 0.0007815552950371239,\n",
              " 'R': 0.0,\n",
              " 'S': 0.025400547088706527,\n",
              " 'T': 0.039077764751856196,\n",
              " 'U': 0.06408753419304415,\n",
              " 'V': 0.11488862837045721,\n",
              " 'W': 0.03008987885892927,\n",
              " 'X': 0.008987885892926924,\n",
              " 'Y': 0.06017975771785854,\n",
              " 'Z': 0.07581086361860101}"
            ]
          },
          "metadata": {
            "tags": []
          },
          "execution_count": 8
        }
      ]
    },
    {
      "cell_type": "markdown",
      "metadata": {
        "id": "cj4lUBc56A6b"
      },
      "source": [
        "### Comparando a Frequência do Texto com a do Texto Cifrado"
      ]
    },
    {
      "cell_type": "code",
      "metadata": {
        "colab": {
          "base_uri": "https://localhost:8080/"
        },
        "id": "l1NipKskuqmL",
        "outputId": "93864b9f-a0d3-4d1e-d5da-71cb6516ddd6"
      },
      "source": [
        "frequencies = compare_frequencies(text_frequency, cipher_frequency)\r\n",
        "frequencies"
      ],
      "execution_count": 9,
      "outputs": [
        {
          "output_type": "execute_result",
          "data": {
            "text/plain": [
              "{1: 0.0318537993772907,\n",
              " 2: 0.029651303867263265,\n",
              " 3: 0.045539263227609574,\n",
              " 4: 0.03125839412223995,\n",
              " 5: 0.034721029197458154,\n",
              " 6: 0.03979090723482285,\n",
              " 7: 0.07835023114520756,\n",
              " 8: 0.03979090723482284,\n",
              " 9: 0.034721029197458154,\n",
              " 10: 0.03125839412223995,\n",
              " 11: 0.045539263227609574,\n",
              " 12: 0.029651303867263265,\n",
              " 13: 0.0318537993772907,\n",
              " 14: 0.025057108663826003,\n",
              " 15: 0.036153422450183485,\n",
              " 16: 0.035177929049500185,\n",
              " 17: 0.039395853786549875,\n",
              " 18: 0.04225056161879373,\n",
              " 19: 0.04851949635342913,\n",
              " 20: 0.042911630956858536,\n",
              " 21: 0.048519496353429135,\n",
              " 22: 0.04225056161879373,\n",
              " 23: 0.03939585378654989,\n",
              " 24: 0.035177929049500165,\n",
              " 25: 0.03615342245018349,\n",
              " 26: 0.025057108663826006}"
            ]
          },
          "metadata": {
            "tags": []
          },
          "execution_count": 9
        }
      ]
    },
    {
      "cell_type": "markdown",
      "metadata": {
        "id": "CVKzOqQQwMR7"
      },
      "source": [
        "# Parte 2: Cifra de Vigenère\r\n",
        "\r\n",
        "No ambiente CoCalc, escreva uma função em Python que cifra (Enc) e outra que decifra (Dec)\r\n",
        "textos usando a cifra de Vigenère.\r\n",
        "* Enc - Entrada: Texto em português e uma chave (palavra qualquer).\r\n",
        "* Enc - Saída: Texto cifrado utilizando a cifra de Vigenère.\r\n",
        "* Dec - Entrada: Texto cifrado usando a cifra de Vigenère e a respectiva chave.\r\n",
        "* Dec - Saída: Texto original obtido ao decifra o texto cifrado."
      ]
    },
    {
      "cell_type": "markdown",
      "metadata": {
        "id": "o-fLvEhiwwJj"
      },
      "source": [
        "## Classe VigenereCipher"
      ]
    },
    {
      "cell_type": "code",
      "metadata": {
        "id": "D4LYvlM7wm5J"
      },
      "source": [
        "class VigenereCipher:\r\n",
        "    def __init__(self):\r\n",
        "        from string import ascii_uppercase\r\n",
        "        self.alphabet = ascii_uppercase\r\n",
        "\r\n",
        "    def encrypt(self, message, key):\r\n",
        "        self.key = only_upper_letters(key)\r\n",
        "        self.key = list(self.key)\r\n",
        "        message = only_upper_letters(message)\r\n",
        "        encrypted_message = ''\r\n",
        "\r\n",
        "        for i in range(len(message)):\r\n",
        "            index_message_letter = self.alphabet.find(message[i])\r\n",
        "            index_key_letter = self.alphabet.find( self.key[i % len(self.key)] )\r\n",
        "            added_index = (index_message_letter + index_key_letter) % len(self.alphabet)\r\n",
        "            \r\n",
        "            encrypted_message += self.alphabet[added_index]\r\n",
        "\r\n",
        "        return encrypted_message\r\n",
        "\r\n",
        "    def decrypt(self, cipher, key):\r\n",
        "        self.key = only_upper_letters(key)\r\n",
        "        self.key = list(self.key)\r\n",
        "        cipher = only_upper_letters(cipher)\r\n",
        "        decrypted_cipher = ''\r\n",
        "\r\n",
        "        for i in range(len(cipher)):\r\n",
        "            index_cipher_letter = self.alphabet.find(cipher[i])\r\n",
        "            index_key_letter = self.alphabet.find( self.key[i % len(self.key)] )\r\n",
        "            added_index = (index_cipher_letter - index_key_letter) % len(self.alphabet)\r\n",
        "            \r\n",
        "            decrypted_cipher += self.alphabet[added_index]\r\n",
        "\r\n",
        "        return decrypted_cipher"
      ],
      "execution_count": 10,
      "outputs": []
    },
    {
      "cell_type": "code",
      "metadata": {
        "colab": {
          "base_uri": "https://localhost:8080/",
          "height": 35
        },
        "id": "BhPKbAOH1PBc",
        "outputId": "ba9308fb-52b0-44ac-9bdf-47914ca22ef8"
      },
      "source": [
        "vc = VigenereCipher()\r\n",
        "key = 'porta'\r\n",
        "message = 'criptografia'\r\n",
        "cipher = vc.encrypt(message, key)\r\n",
        "\r\n",
        "cipher"
      ],
      "execution_count": 11,
      "outputs": [
        {
          "output_type": "execute_result",
          "data": {
            "application/vnd.google.colaboratory.intrinsic+json": {
              "type": "string"
            },
            "text/plain": [
              "'RFZITDUITFXO'"
            ]
          },
          "metadata": {
            "tags": []
          },
          "execution_count": 11
        }
      ]
    },
    {
      "cell_type": "code",
      "metadata": {
        "colab": {
          "base_uri": "https://localhost:8080/",
          "height": 35
        },
        "id": "WA5e9PyW1TkJ",
        "outputId": "53f1ac25-bada-4c13-a8d8-42355470badb"
      },
      "source": [
        "vc.decrypt(cipher, key)"
      ],
      "execution_count": 12,
      "outputs": [
        {
          "output_type": "execute_result",
          "data": {
            "application/vnd.google.colaboratory.intrinsic+json": {
              "type": "string"
            },
            "text/plain": [
              "'CRIPTOGRAFIA'"
            ]
          },
          "metadata": {
            "tags": []
          },
          "execution_count": 12
        }
      ]
    }
  ]
}