{
  "nbformat": 4,
  "nbformat_minor": 0,
  "metadata": {
    "colab": {
      "name": "Prova-1.ipynb",
      "provenance": [],
      "collapsed_sections": [],
      "authorship_tag": "ABX9TyOIAX+RRU8M7ifZfdIA0yEW",
      "include_colab_link": true
    },
    "kernelspec": {
      "name": "python3",
      "display_name": "Python 3"
    }
  },
  "cells": [
    {
      "cell_type": "markdown",
      "metadata": {
        "id": "view-in-github",
        "colab_type": "text"
      },
      "source": [
        "<a href=\"https://colab.research.google.com/github/Crissky/Criptografia/blob/main/VA1/Prova_1.ipynb\" target=\"_parent\"><img src=\"https://colab.research.google.com/assets/colab-badge.svg\" alt=\"Open In Colab\"/></a>"
      ]
    },
    {
      "cell_type": "code",
      "metadata": {
        "colab": {
          "base_uri": "https://localhost:8080/"
        },
        "id": "TVZQiWiJalFc",
        "outputId": "e71277d0-f501-4ea1-e921-d936986865ec"
      },
      "source": [
        "!pip install pycipher"
      ],
      "execution_count": 1,
      "outputs": [
        {
          "output_type": "stream",
          "text": [
            "Requirement already satisfied: pycipher in /usr/local/lib/python3.6/dist-packages (0.5.2)\n"
          ],
          "name": "stdout"
        }
      ]
    },
    {
      "cell_type": "code",
      "metadata": {
        "id": "-IwY3W3vamrI"
      },
      "source": [
        "from pycipher import Affine\r\n",
        "from pycipher import Caesar\r\n",
        "from pycipher import Vigenere\r\n",
        "from pycipher import Autokey\r\n",
        "\r\n",
        "from random import shuffle"
      ],
      "execution_count": 2,
      "outputs": []
    },
    {
      "cell_type": "code",
      "metadata": {
        "id": "uobSphE6Ohwa"
      },
      "source": [
        "def clear_punctuation(text):\r\n",
        "    from string import punctuation\r\n",
        "\r\n",
        "    return text.translate(str.maketrans('','', punctuation))\r\n",
        "\r\n",
        "def get_poses(text):\r\n",
        "    pos = 0\r\n",
        "    poses = list()\r\n",
        "    while pos > -1:\r\n",
        "        poses.append(text.find(\" \", pos))\r\n",
        "        pos = poses[-1]\r\n",
        "        if pos > 0:\r\n",
        "            pos += 1\r\n",
        "\r\n",
        "    poses = poses[:-1]\r\n",
        "    print(poses)\r\n",
        "\r\n",
        "    return poses\r\n",
        "\r\n",
        "def set_spaces(text, poses):\r\n",
        "    for i in poses:\r\n",
        "        text = text[:i] + \" \" + text[i:]\r\n",
        "    \r\n",
        "    return text"
      ],
      "execution_count": 3,
      "outputs": []
    },
    {
      "cell_type": "code",
      "metadata": {
        "colab": {
          "base_uri": "https://localhost:8080/"
        },
        "id": "aWJV3HI4LLvG",
        "outputId": "276d4e3d-29bb-47fd-9f86-1ac0bd32478d"
      },
      "source": [
        "text = 'V XOZIL JFV WZIVR XLNKFGZWLIVH ZLH NVFH UROSLH NZH ZMGVH GVIZL OREILH'\r\n",
        "text = clear_punctuation(text)\r\n",
        "poses = get_poses(text)"
      ],
      "execution_count": 4,
      "outputs": [
        {
          "output_type": "stream",
          "text": [
            "[1, 7, 11, 17, 30, 34, 39, 46, 50, 56, 62]\n"
          ],
          "name": "stdout"
        }
      ]
    },
    {
      "cell_type": "code",
      "metadata": {
        "colab": {
          "base_uri": "https://localhost:8080/"
        },
        "id": "vwoDSS41atuC",
        "outputId": "7911142b-996d-4d84-8e49-59461ad5bd27"
      },
      "source": [
        "for a in [1, 3, 5, 7, 9, 11, 15, 17, 19, 21, 23, 25]:\r\n",
        "    for b in range(26):\r\n",
        "        decript = Affine(a=a,b=b).decipher(text)\r\n",
        "        if(decript[0] in \"AEO\"):\r\n",
        "            decript = set_spaces(decript, poses)\r\n",
        "            print(\"A=\", a, \"B=\", b, decript)\r\n",
        "\r\n",
        "#\"E CLARO QUE DAREI COMPUTADORES AOS MEUS FILHOS MAS ANTES TERAO LIVROS\""
      ],
      "execution_count": 5,
      "outputs": [
        {
          "output_type": "stream",
          "text": [
            "A= 1 B= 7 O QHSBE CYO PSBOK QEGDYZSPEBOA SEA GOYA NKHLEA GSA SFZOA ZOBSE HKXBEA\n",
            "A= 1 B= 17 E GXIRU SOE FIREA GUWTOPIFUREQ IUQ WEOQ DAXBUQ WIQ IVPEQ PERIU XANRUQ\n",
            "A= 1 B= 21 A CTENQ OKA BENAW CQSPKLEBQNAM EQM SAKM ZWTXQM SEM ERLAM LANEQ TWJNQM\n",
            "A= 3 B= 5 O GDYBC KAO XYBOE GCUTAJYXCBOS YCS UOAS FEDNCS UYS YLJOS JOBYC DERBCS\n",
            "A= 3 B= 9 E WTORS AQE NOREU WSKJQZONSREI OSI KEQI VUTDSI KOI OBZEI ZEROS TUHRSI\n",
            "A= 3 B= 21 A SPKNO WMA JKNAQ SOGFMVKJONAE KOE GAME RQPZOE GKE KXVAE VANKO PQDNOE\n",
            "A= 5 B= 1 E UNKRC MGE ZKREY UCSHGBKZCREW KCW SEGW JYNTCW SKW KXBEW BERKC NYLRCW\n",
            "A= 5 B= 3 O EXUBM WQO JUBOI EMCRQLUJMBOG UMG COQG TIXDMG CUG UHLOG LOBUM XIVBMG\n",
            "A= 5 B= 21 A QJGNY ICA VGNAU QYODCXGVYNAS GYS OACS FUJPYS OGS GTXAS XANGY JUHNYS\n",
            "A= 7 B= 1 O SNWBU QIO DWBOG SUYFIXWDUBOM WUM YOIM ZGNVUM YWM WJXOM XOBWU NGTBUM\n",
            "A= 7 B= 19 E IDMRK GYE TMREW IKOVYNMTKREC MKC OEYC PWDLKC OMC MZNEC NERMK DWJRKC\n",
            "A= 7 B= 21 A EZING CUA PINAS EGKRUJIPGNAY IGY KAUY LSZHGY KIY IVJAY JANIG ZSFNGY\n",
            "A= 9 B= 11 E KJQRA UIE HQRES KAGXILQHAREO QAO GEIO BSJVAO GQO QDLEO LERQA JSFRAO\n",
            "A= 9 B= 21 A GFMNW QEA DMNAO GWCTEHMDWNAK MWK CAEK XOFRWK CMK MZHAK HANMW FOBNWK\n",
            "A= 9 B= 25 O UTABK ESO RABOC UKQHSVARKBOY AKY QOSY LCTFKY QAY ANVOY VOBAK TCPBKY\n",
            "A= 11 B= 3 E QBCRW KME XCREG QWIDMFCXWREY CWY IEMY LGBZWY ICY CPFEY FERCW BGTRWY\n",
            "A= 11 B= 21 A MXYNS GIA TYNAC MSEZIBYTSNAU YSU EAIU HCXVSU EYU YLBAU BANYS XCPNSU\n",
            "A= 11 B= 23 O ALMBG UWO HMBOQ AGSNWPMHGBOI MGI SOWI VQLJGI SMI MZPOI POBMG LQDBGI\n",
            "A= 15 B= 13 E SHGRM YWE LGREC SMAFWDGLMREK GMK AEWK XCHJMK AGK GTDEK DERGM HCPRMK\n",
            "A= 15 B= 19 O CRQBW IGO VQBOM CWKPGNQVWBOU QWU KOGU HMRTWU KQU QDNOU NOBQW RMZBWU\n",
            "A= 15 B= 21 A ODCNI USA HCNAY OIWBSZCHINAG CIG WASG TYDFIG WCG CPZAG ZANCI DYLNIG\n",
            "A= 17 B= 5 E YZSRI OAE BSREQ YICLAXSBIREU SIU CEAU HQZNIU CSU SFXEU XERSI ZQDRIU\n",
            "A= 17 B= 17 O IJCBS YKO LCBOA ISMVKHCLSBOE CSE MOKE RAJXSE MCE CPHOE HOBCS JANBSE\n",
            "A= 17 B= 21 A UVONE KWA XONAM UEYHWTOXENAQ OEQ YAWQ DMVJEQ YOQ OBTAQ TANOE VMZNEQ\n",
            "A= 19 B= 15 O KPGBI MUO ZGBOW KIEXUFGZIBOQ GIQ EOUQ DWPHIQ EGQ GTFOQ FOBGI PWJBIQ\n",
            "A= 19 B= 21 A WBSNU YGA LSNAI WUQJGRSLUNAC SUC QAGC PIBTUC QSC SFRAC RANSU BIVNUC\n",
            "A= 19 B= 23 E AFWRY CKE PWREM AYUNKVWPYREG WYG UEKG TMFXYG UWG WJVEG VERWY FMZRYG\n",
            "A= 21 B= 13 O YFIBQ GMO TIBOU YQALMRITQBOW IQW AOMW JUFZQW AIW IVROW ROBIQ FUHBQW\n",
            "A= 21 B= 15 E OVYRG WCE JYREK OGQBCHYJGREM YGM QECM ZKVPGM QYM YLHEM HERYG VKXRGM\n",
            "A= 21 B= 21 A KRUNC SYA FUNAG KCMXYDUFCNAI UCI MAYI VGRLCI MUI UHDAI DANUC RGTNCI\n",
            "A= 23 B= 7 E MPURQ ISE VUREO MQYZSJUVQREA UQA YESA NOPFQA YUA UHJEA JERUQ POBRQA\n",
            "A= 23 B= 11 O WZEBA SCO FEBOY WAIJCTEFABOK EAK IOCK XYZPAK IEK ERTOK TOBEA ZYLBAK\n",
            "A= 23 B= 21 A ILQNM EOA RQNAK IMUVOFQRMNAW QMW UAOW JKLBMW UQW QDFAW FANQM LKXNMW\n",
            "A= 25 B= 9 O MVKBY AEO NKBOS MYWZEDKNYBOC KYC WOEC PSVRYC WKC KXDOC DOBKY VSFBYC\n",
            "A= 25 B= 21 A YHWNK MQA ZWNAE YKILQPWZKNAO WKO IAQO BEHDKO IWO WJPAO PANWK HERNKO\n",
            "A= 25 B= 25 E CLARO QUE DAREI COMPUTADORES AOS MEUS FILHOS MAS ANTES TERAO LIVROS\n"
          ],
          "name": "stdout"
        }
      ]
    },
    {
      "cell_type": "code",
      "metadata": {
        "colab": {
          "base_uri": "https://localhost:8080/"
        },
        "id": "4qJhf3KZK3kG",
        "outputId": "28a66c0a-6a84-4ba5-d530-af552204b9c5"
      },
      "source": [
        "text = 'V XBL AVYUH ILSV V KLZLYAV KPZZL V WYPUJPWLGPUOV L XBL LSL LZJVUKL BT WVJV UHSNBT SBNHY'\r\n",
        "text = clear_punctuation(text)\r\n",
        "poses = get_poses(text)"
      ],
      "execution_count": 6,
      "outputs": [
        {
          "output_type": "stream",
          "text": [
            "[1, 5, 11, 16, 18, 26, 32, 34, 48, 50, 54, 58, 66, 69, 74, 81]\n"
          ],
          "name": "stdout"
        }
      ]
    },
    {
      "cell_type": "code",
      "metadata": {
        "colab": {
          "base_uri": "https://localhost:8080/"
        },
        "id": "8MEvT1nceaC4",
        "outputId": "e5f90d0a-4e3a-43e9-da99-b12911d212a5"
      },
      "source": [
        "for a in [1, 3, 5, 7, 9, 11, 15, 17, 19, 21, 23, 25]:\r\n",
        "    for b in range(26):\r\n",
        "        decript = Affine(a=a,b=b).decipher(text)\r\n",
        "        if(decript[0] in \"AEO\"):\r\n",
        "            decript = set_spaces(decript, poses)\r\n",
        "            print(\"A=\", a, \"B=\", b, decript)\r\n",
        "\r\n",
        "#\"O QUE TORNA BELO O DESERTO DISSE O PRINCIPEZINHO E QUE ELE ESCONDE UM POCO NALGUM LUGAR\""
      ],
      "execution_count": 7,
      "outputs": [
        {
          "output_type": "stream",
          "text": [
            "A= 1 B= 7 O QUE TORNA BELO O DESERTO DISSE O PRINCIPEZINHO E QUE ELE ESCONDE UM POCO NALGUM LUGAR\n",
            "A= 1 B= 17 E GKU JEHDQ RUBE E TUIUHJE TYIIU E FHYDSYFUPYDXE U GKU UBU UISEDTU KC FESE DQBWKC BKWQH\n",
            "A= 1 B= 21 A CGQ FADZM NQXA A PQEQDFA PUEEQ A BDUZOUBQLUZTA Q CGQ QXQ QEOAZPQ GY BAOA ZMXSGY XGSMD\n",
            "A= 3 B= 5 O GQC HOPFS BCNO O TCYCPHO TMYYC O XPMFKMXCJMFDO C GQC CNC CYKOFTC QW XOKO FSNUQW NQUSP\n",
            "A= 3 B= 9 E WGS XEFVI RSDE E JSOSFXE JCOOS E NFCVACNSZCVTE S WGS SDS SOAEVJS GM NEAE VIDKGM DGKIF\n",
            "A= 3 B= 21 A SCO TABRE NOZA A FOKOBTA FYKKO A JBYRWYJOVYRPA O SCO OZO OKWARFO CI JAWA REZGCI ZCGEB\n",
            "A= 5 B= 1 E UAC FEPJW RCTE E HCKCPFE HIKKC E ZPIJMIZCBIJNE C UAC CTC CKMEJHC AO ZEME JWTSAO TASWP\n",
            "A= 5 B= 3 O EKM POZTG BMDO O RMUMZPO RSUUM O JZSTWSJMLSTXO M EKM MDM MUWOTRM KY JOWO TGDCKY DKCGZ\n",
            "A= 5 B= 21 A QWY BALFS NYPA A DYGYLBA DEGGY A VLEFIEVYXEFJA Y QWY YPY YGIAFDY WK VAIA FSPOWK PWOSL\n",
            "A= 7 B= 1 O SAU LOHZM BUVO O FUWUHLO FCWWU O DHCZQCDUXCZNO U SAU UVU UWQOZFU AK DOQO ZMVYAK VAYMH\n",
            "A= 7 B= 19 E IQK BEXPC RKLE E VKMKXBE VSMMK E TXSPGSTKNSPDE K IQK KLK KMGEPVK QA TEGE PCLOQA LQOCX\n",
            "A= 7 B= 21 A EMG XATLY NGHA A RGIGTXA ROIIG A PTOLCOPGJOLZA G EMG GHG GICALRG MW PACA LYHKMW HMKYT\n",
            "A= 9 B= 11 E KWA TENBO RAVE E XAQANTE XMQQA E HNMBUMHALMBJE A KWA AVA AQUEBXA WY HEUE BOVGWY VWGON\n",
            "A= 9 B= 21 A GSW PAJXK NWRA A TWMWJPA TIMMW A DJIXQIDWHIXFA W GSW WRW WMQAXTW SU DAQA XKRCSU RSCKJ\n",
            "A= 9 B= 25 O UGK DOXLY BKFO O HKAKXDO HWAAK O RXWLEWRKVWLTO K UGK KFK KAEOLHK GI ROEO LYFQGI FGQYX\n",
            "A= 11 B= 3 E QOW VEJLY RWZE E DWCWJVE DUCCW E XJULKUXWFULBE W QOW WZW WCKELDW OS XEKE LYZIOS ZOIYJ\n",
            "A= 11 B= 21 A MKS RAFHU NSVA A ZSYSFRA ZQYYS A TFQHGQTSBQHXA S MKS SVS SYGAHZS KO TAGA HUVEKO VKEUF\n",
            "A= 11 B= 23 O AYG FOTVI BGJO O NGMGTFO NEMMG O HTEVUEHGPEVLO G AYG GJG GMUOVNG YC HOUO VIJSYC JYSIT\n",
            "A= 15 B= 13 E SUM NEZXK RMJE E FMGMZNE FOGGM E LZOXYOLMDOXHE M SUM MJM MGYEXFM UQ LEYE XKJAUQ JUAKZ\n",
            "A= 15 B= 19 O CEW XOJHU BWTO O PWQWJXO PYQQW O VJYHIYVWNYHRO W CEW WTW WQIOHPW EA VOIO HUTKEA TEKUJ\n",
            "A= 15 B= 21 A OQI JAVTG NIFA A BICIVJA BKCCI A HVKTUKHIZKTDA I OQI IFI ICUATBI QM HAUA TGFWQM FQWGV\n",
            "A= 17 B= 5 E YMI PEVHU RINE E LISIVPE LWSSI E BVWHOWBIXWHZE I YMI INI ISOEHLI MK BEOE HUNCMK NMCUV\n",
            "A= 17 B= 17 O IWS ZOFRE BSXO O VSCSFZO VGCCS O LFGRYGLSHGRJO S IWS SXS SCYORVS WU LOYO REXMWU XWMEF\n",
            "A= 17 B= 21 A UIE LARDQ NEJA A HEOERLA HSOOE A XRSDKSXETSDVA E UIE EJE EOKADHE IG XAKA DQJYIG JIYQR\n",
            "A= 19 B= 15 O KCI ROVDQ BIHO O XIGIVRO XAGGI O ZVADMAZIFADPO I KCI IHI IGMODXI CS ZOMO DQHECS HCEQV\n",
            "A= 19 B= 21 A WOU DAHPC NUTA A JUSUHDA JMSSU A LHMPYMLURMPBA U WOU UTU USYAPJU OE LAYA PCTQOE TOQCH\n",
            "A= 19 B= 23 E ASY HELTG RYXE E NYWYLHE NQWWY E PLQTCQPYVQTFE Y ASY YXY YWCETNY SI PECE TGXUSI XSUGL\n",
            "A= 21 B= 13 O YSQ NODJW BQZO O LQIQDNO LKIIQ O TDKJGKTQRKJFO Q YSQ QZQ QIGOJLQ SE TOGO JWZASE ZSAWD\n",
            "A= 21 B= 15 E OIG DETZM RGPE E BGYGTDE BAYYG E JTAZWAJGHAZVE G OIG GPG GYWEZBG IU JEWE ZMPQIU PIQMT\n",
            "A= 21 B= 21 A KEC ZAPVI NCLA A XCUCPZA XWUUC A FPWVSWFCDWVRA C KEC CLC CUSAVXC EQ FASA VILMEQ LEMIP\n",
            "A= 23 B= 7 E MCQ LEDNA RQFE E ZQUQDLE ZGUUQ E VDGNIGVQJGNPE Q MCQ QFQ QUIENZQ CW VEIE NAFYCW FCYAD\n",
            "A= 23 B= 11 O WMA VONXK BAPO O JAEANVO JQEEA O FNQXSQFATQXZO A WMA APA AESOXJA MG FOSO XKPIMG PMIKN\n",
            "A= 23 B= 21 A IYM HAZJW NMBA A VMQMZHA VCQQM A RZCJECRMFCJLA M IYM MBM MQEAJVM YS RAEA JWBUYS BYUWZ\n",
            "A= 25 B= 9 O MIY JOLPC BYRO O ZYKYLJO ZUKKY O NLUPAUNYDUPVO Y MIY YRY YKAOPZY IQ NOAO PCRWIQ RIWCL\n",
            "A= 25 B= 21 A YUK VAXBO NKDA A LKWKXVA LGWWK A ZXGBMGZKPGBHA K YUK KDK KWMABLK UC ZAMA BODIUC DUIOX\n",
            "A= 25 B= 25 E CYO ZEBFS ROHE E POAOBZE PKAAO E DBKFQKDOTKFLE O CYO OHO OAQEFPO YG DEQE FSHMYG HYMSB\n"
          ],
          "name": "stdout"
        }
      ]
    },
    {
      "cell_type": "code",
      "metadata": {
        "colab": {
          "base_uri": "https://localhost:8080/"
        },
        "id": "cUQOM1JnokUM",
        "outputId": "d434eba9-e4d8-4077-ce77-746db4eba101"
      },
      "source": [
        "text = 'AIPOF CZ MQRRG OOYAACZ HMSPST FUVESZ Y UGHOPM QM QWNHUDNRL Y PIESPNAS FOV XATNRVM PE EOGUA E PCUMOIRBJCM E QSCYY ATWY YY RRZHWMO HBZ UAS BIALAS PCT YEPVFPNA DR TYUFEEBPXMDR'\r\n",
        "text = clear_punctuation(text)\r\n",
        "poses = get_poses(text)"
      ],
      "execution_count": 8,
      "outputs": [
        {
          "output_type": "stream",
          "text": [
            "[5, 8, 14, 22, 29, 36, 38, 45, 48, 58, 60, 69, 73, 81, 84, 90, 92, 104, 106, 112, 117, 120, 128, 132, 136, 143, 147, 156, 159]\n"
          ],
          "name": "stdout"
        }
      ]
    },
    {
      "cell_type": "code",
      "metadata": {
        "colab": {
          "base_uri": "https://localhost:8080/"
        },
        "id": "4yXRuJLfHQFB",
        "outputId": "e860ab78-3e8a-484e-f8b9-c71b8d3313eb"
      },
      "source": [
        "words = set(\"humano\".upper().split())\r\n",
        "\r\n",
        "for word in words:\r\n",
        "    decript = Vigenere(key=word).decipher(text)\r\n",
        "    decript = set_spaces(decript, poses)\r\n",
        "    print('KEY=\"{}\"'.format(word), decript)"
      ],
      "execution_count": 9,
      "outputs": [
        {
          "output_type": "stream",
          "text": [
            "KEY=\"HUMANO\" TODOS OS SERES HUMANOS NASCEM LIVRES E IGUAIS EM DIGNIDADE E DIREITOS SAO DOTADOS DE RAZAO E CONSCIENCIA E DEVEM AGIR EM RELACAO UNS AOS OUTROS COM ESPIRITO DE FRATERNIDADE\n"
          ],
          "name": "stdout"
        }
      ]
    },
    {
      "cell_type": "code",
      "metadata": {
        "colab": {
          "base_uri": "https://localhost:8080/"
        },
        "id": "GzWKAq3lWAmH",
        "outputId": "0154178d-8e35-4ec5-c962-a4439e1cddab"
      },
      "source": [
        "for word in words:\r\n",
        "    decript = Autokey(key=word).decipher(text)\r\n",
        "    decript = set_spaces(decript, poses)\r\n",
        "    print('KEY=\"{}\"'.format(word), decript)"
      ],
      "execution_count": 10,
      "outputs": [
        {
          "output_type": "stream",
          "text": [
            "KEY=\"HUMANO\" TODOS OG YNDZS IQLXBKR RBVOIC OTAQKX K BGRESC PG ZSVFFXOZQ T KLQTZUQH PVW DKMYWZJ FS GSHLV M JKNBTWIRWBT I IBGXF SLVS BT ZGEPVTP BXK ZHD ALQMTP PRD MLAGOMBP DL FMTQBTWDEWCY\n"
          ],
          "name": "stdout"
        }
      ]
    }
  ]
}