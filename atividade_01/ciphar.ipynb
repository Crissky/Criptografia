{
  "nbformat": 4,
  "nbformat_minor": 0,
  "metadata": {
    "colab": {
      "name": "ciphar.ipynb",
      "provenance": [],
      "collapsed_sections": [],
      "toc_visible": true,
      "authorship_tag": "ABX9TyMcVZt0H8zn+4/qRLMp5HiS"
    },
    "kernelspec": {
      "name": "python3",
      "display_name": "Python 3"
    }
  },
  "cells": [
    {
      "cell_type": "markdown",
      "metadata": {
        "id": "pZ5WUOLP1GNV"
      },
      "source": [
        "# Atbash Cipher"
      ]
    },
    {
      "cell_type": "code",
      "metadata": {
        "id": "lj65SBbWwSW8"
      },
      "source": [
        "class AtbashCipher:\n",
        "    def __init__(self):\n",
        "        import string\n",
        "        self.alphabet = list(string.ascii_lowercase)\n",
        "        self.reverse_alphabet = self.alphabet.copy()\n",
        "        self.reverse_alphabet.reverse()\n",
        "    \n",
        "    def map_function(self, letter):\n",
        "        new_letter = letter.lower()\n",
        "        if (new_letter in self.alphabet):\n",
        "            new_letter = (self.reverse_alphabet[self.alphabet.index(new_letter)])\n",
        "        \n",
        "        return new_letter\n",
        "\n",
        "    def encrypt(self, message):\n",
        "        encrypted_message = map(self.map_function, message)\n",
        "        encrypted_message = list(encrypted_message)\n",
        "        encrypted_message = ''.join(encrypted_message)\n",
        "\n",
        "        return encrypted_message"
      ],
      "execution_count": 1,
      "outputs": []
    },
    {
      "cell_type": "code",
      "metadata": {
        "id": "fwWBTwULw5Jl"
      },
      "source": [
        "ac = AtbashCipher()"
      ],
      "execution_count": 2,
      "outputs": []
    },
    {
      "cell_type": "code",
      "metadata": {
        "colab": {
          "base_uri": "https://localhost:8080/",
          "height": 35
        },
        "id": "m0OLKY8F0U9Q",
        "outputId": "ca096022-4de0-4028-9791-06db4e52c7d0"
      },
      "source": [
        "ciphar = ac.encrypt('ATTACK AT DAWN')\n",
        "ciphar"
      ],
      "execution_count": 3,
      "outputs": [
        {
          "output_type": "execute_result",
          "data": {
            "application/vnd.google.colaboratory.intrinsic+json": {
              "type": "string"
            },
            "text/plain": [
              "'zggzxp zg wzdm'"
            ]
          },
          "metadata": {
            "tags": []
          },
          "execution_count": 3
        }
      ]
    },
    {
      "cell_type": "code",
      "metadata": {
        "colab": {
          "base_uri": "https://localhost:8080/",
          "height": 35
        },
        "id": "wMMPmATP0a5X",
        "outputId": "f8c7b12c-77c8-4492-a3b9-6cce0329831a"
      },
      "source": [
        "ac.encrypt(ciphar)"
      ],
      "execution_count": 4,
      "outputs": [
        {
          "output_type": "execute_result",
          "data": {
            "application/vnd.google.colaboratory.intrinsic+json": {
              "type": "string"
            },
            "text/plain": [
              "'attack at dawn'"
            ]
          },
          "metadata": {
            "tags": []
          },
          "execution_count": 4
        }
      ]
    },
    {
      "cell_type": "markdown",
      "metadata": {
        "id": "1Bc-Ay627THu"
      },
      "source": [
        "# Caesar Cipher"
      ]
    },
    {
      "cell_type": "code",
      "metadata": {
        "id": "KnkHABSf313z"
      },
      "source": [
        "class CaesarCipher:\n",
        "    def __init__(self):\n",
        "        import string\n",
        "        self.alphabet = list(string.ascii_lowercase)\n",
        "    \n",
        "    def map_function(self, letter):\n",
        "        new_letter = letter.lower()\n",
        "        if (new_letter in self.alphabet):\n",
        "            index = (self.alphabet.index(new_letter) + self.key) % len(self.alphabet)\n",
        "            new_letter = (self.alphabet[index])\n",
        "        \n",
        "        return new_letter\n",
        "\n",
        "    def encrypt(self, message, key):\n",
        "        self.key = key\n",
        "        encrypted_message = map(self.map_function, message)\n",
        "        encrypted_message = list(encrypted_message)\n",
        "        encrypted_message = ''.join(encrypted_message)\n",
        "\n",
        "        return encrypted_message\n",
        "    \n",
        "    def decrypt(self, message, key):\n",
        "        return self.encrypt(message, -key)"
      ],
      "execution_count": 5,
      "outputs": []
    },
    {
      "cell_type": "code",
      "metadata": {
        "id": "8vdbMwNF7eFM"
      },
      "source": [
        "cc = CaesarCipher()"
      ],
      "execution_count": 6,
      "outputs": []
    },
    {
      "cell_type": "code",
      "metadata": {
        "colab": {
          "base_uri": "https://localhost:8080/",
          "height": 35
        },
        "id": "g0dnss5J7hqP",
        "outputId": "1b32e0b9-76aa-46c5-9f8b-4b423f2e1a49"
      },
      "source": [
        "ciphar = cc.encrypt('defend the east wall of the castle', 1)\n",
        "ciphar"
      ],
      "execution_count": 7,
      "outputs": [
        {
          "output_type": "execute_result",
          "data": {
            "application/vnd.google.colaboratory.intrinsic+json": {
              "type": "string"
            },
            "text/plain": [
              "'efgfoe uif fbtu xbmm pg uif dbtumf'"
            ]
          },
          "metadata": {
            "tags": []
          },
          "execution_count": 7
        }
      ]
    },
    {
      "cell_type": "code",
      "metadata": {
        "colab": {
          "base_uri": "https://localhost:8080/",
          "height": 35
        },
        "id": "ZXq-vEbN71-Q",
        "outputId": "39a46c18-daee-4e76-8cbe-8061f3eb9656"
      },
      "source": [
        "cc.decrypt(ciphar, 1)"
      ],
      "execution_count": 8,
      "outputs": [
        {
          "output_type": "execute_result",
          "data": {
            "application/vnd.google.colaboratory.intrinsic+json": {
              "type": "string"
            },
            "text/plain": [
              "'defend the east wall of the castle'"
            ]
          },
          "metadata": {
            "tags": []
          },
          "execution_count": 8
        }
      ]
    },
    {
      "cell_type": "markdown",
      "metadata": {
        "id": "7gZ_UulC3mGF"
      },
      "source": [
        "# ROT13 Cipher"
      ]
    },
    {
      "cell_type": "code",
      "metadata": {
        "id": "Z8YYj9tL3m_I"
      },
      "source": [
        "class ROT13Cipher(CaesarCipher):\n",
        "    def encrypt(self, message):\n",
        "        return super().encrypt(message, 13)\n",
        "    \n",
        "    def decrypt(self, message):\n",
        "        return super().encrypt(message, -13)"
      ],
      "execution_count": 9,
      "outputs": []
    },
    {
      "cell_type": "code",
      "metadata": {
        "id": "ppft_FBr5h3g"
      },
      "source": [
        "r13 = ROT13Cipher()"
      ],
      "execution_count": 10,
      "outputs": []
    },
    {
      "cell_type": "code",
      "metadata": {
        "colab": {
          "base_uri": "https://localhost:8080/",
          "height": 35
        },
        "id": "keSdzLGY5krn",
        "outputId": "f8c05457-6d5f-47df-d305-f0caf7b03e57"
      },
      "source": [
        "ciphar = r13.encrypt('ATTACK AT DAWN')\n",
        "ciphar"
      ],
      "execution_count": 11,
      "outputs": [
        {
          "output_type": "execute_result",
          "data": {
            "application/vnd.google.colaboratory.intrinsic+json": {
              "type": "string"
            },
            "text/plain": [
              "'nggnpx ng qnja'"
            ]
          },
          "metadata": {
            "tags": []
          },
          "execution_count": 11
        }
      ]
    },
    {
      "cell_type": "code",
      "metadata": {
        "colab": {
          "base_uri": "https://localhost:8080/",
          "height": 35
        },
        "id": "n1p7gew27-UX",
        "outputId": "f2b4af15-5dae-4956-f6df-094464d2a112"
      },
      "source": [
        "r13.decrypt(ciphar)"
      ],
      "execution_count": 12,
      "outputs": [
        {
          "output_type": "execute_result",
          "data": {
            "application/vnd.google.colaboratory.intrinsic+json": {
              "type": "string"
            },
            "text/plain": [
              "'attack at dawn'"
            ]
          },
          "metadata": {
            "tags": []
          },
          "execution_count": 12
        }
      ]
    },
    {
      "cell_type": "markdown",
      "metadata": {
        "id": "yCjY_IttaSGe"
      },
      "source": [
        "# Affine Cipher"
      ]
    },
    {
      "cell_type": "code",
      "metadata": {
        "id": "J7oWFtdD8A6A"
      },
      "source": [
        "class AffineCipher:\n",
        "    def __init__(self):\n",
        "        import string\n",
        "        self.alphabet = list(string.ascii_lowercase)\n",
        "\n",
        "    def map_function(self, letter):\n",
        "        new_letter = letter.lower()\n",
        "        if (new_letter in self.alphabet):\n",
        "            index = (self.key_a * self.alphabet.index(new_letter) + self.key_b)\n",
        "            index = index % len(self.alphabet)\n",
        "            new_letter = (self.alphabet[index])\n",
        "        \n",
        "        return new_letter\n",
        "\n",
        "    def map_function_b(self, letter):\n",
        "        new_letter = letter.lower()\n",
        "        if (new_letter in self.alphabet):\n",
        "            index = self.key_a * (self.alphabet.index(new_letter) - self.key_b)\n",
        "            index = index % len(self.alphabet)\n",
        "            new_letter = (self.alphabet[index])\n",
        "        \n",
        "        return new_letter\n",
        "\n",
        "    def encrypt(self, message, key_a, key_b):\n",
        "        self.key_a = key_a\n",
        "        self.key_b = key_b\n",
        "        if self.is_key_a():\n",
        "            raise Exception(\"'{}' não é uma chave válida\".format(self.key_a))\n",
        "\n",
        "        encrypted_message = map(self.map_function, message)\n",
        "        encrypted_message = list(encrypted_message)\n",
        "        encrypted_message = ''.join(encrypted_message)\n",
        "\n",
        "        return encrypted_message\n",
        "    \n",
        "    def decrypt(self, message, key_a, key_b):\n",
        "        self.key_a = self.search_inverse()\n",
        "        self.key_b = key_b\n",
        "        encrypted_message = map(self.map_function_b, message)\n",
        "        encrypted_message = list(encrypted_message)\n",
        "        encrypted_message = ''.join(encrypted_message)\n",
        "\n",
        "        return encrypted_message\n",
        "\n",
        "    def is_key_a(self):\n",
        "        check = False\n",
        "        len_alphabet = len(self.alphabet)\n",
        "        for value in range(2, (min( self.key_a, len_alphabet ) // 2) + 2):\n",
        "            if(self.key_a  % value == 0 and len_alphabet % value == 0):\n",
        "                check = True\n",
        "            \n",
        "        return check\n",
        "\n",
        "    def search_inverse(self):\n",
        "        len_alphabet = len(self.alphabet)\n",
        "\n",
        "        for inverse in range(len_alphabet):\n",
        "            if((self.key_a * inverse) % len_alphabet == 1):\n",
        "                return inverse\n"
      ],
      "execution_count": 13,
      "outputs": []
    },
    {
      "cell_type": "code",
      "metadata": {
        "id": "pzooK6ggM9K0"
      },
      "source": [
        "ac = AffineCipher()"
      ],
      "execution_count": 14,
      "outputs": []
    },
    {
      "cell_type": "code",
      "metadata": {
        "colab": {
          "base_uri": "https://localhost:8080/",
          "height": 35
        },
        "id": "7Ppof-4rYLFB",
        "outputId": "053b870a-759c-4df0-f956-423e7f2a164d"
      },
      "source": [
        "cyphar = ac.encrypt('defend the east wall of the castle', 5, 7)\n",
        "\n",
        "cyphar"
      ],
      "execution_count": 15,
      "outputs": [
        {
          "output_type": "execute_result",
          "data": {
            "application/vnd.google.colaboratory.intrinsic+json": {
              "type": "string"
            },
            "text/plain": [
              "'wbgbuw yqb bhty nhkk zg yqb rhtykb'"
            ]
          },
          "metadata": {
            "tags": []
          },
          "execution_count": 15
        }
      ]
    },
    {
      "cell_type": "code",
      "metadata": {
        "colab": {
          "base_uri": "https://localhost:8080/",
          "height": 35
        },
        "id": "vPdJOscEYfVo",
        "outputId": "f05a9ba5-d338-4ac6-f219-2042ba813f15"
      },
      "source": [
        "ac.decrypt(cyphar, 5, 7)"
      ],
      "execution_count": 16,
      "outputs": [
        {
          "output_type": "execute_result",
          "data": {
            "application/vnd.google.colaboratory.intrinsic+json": {
              "type": "string"
            },
            "text/plain": [
              "'defend the east wall of the castle'"
            ]
          },
          "metadata": {
            "tags": []
          },
          "execution_count": 16
        }
      ]
    },
    {
      "cell_type": "markdown",
      "metadata": {
        "id": "cnAETsUUaWP7"
      },
      "source": [
        "# Polybius Square Cipher"
      ]
    },
    {
      "cell_type": "code",
      "metadata": {
        "id": "bq2fNyodaWuR"
      },
      "source": [
        "class PolybiusSquareCipher:\n",
        "    def map_function(self, letter):\n",
        "        new_letter = letter.lower()\n",
        "        if(new_letter in self.key):\n",
        "            index_new_letter = self.key.index(new_letter)\n",
        "            index_column = index_new_letter // len(self.column)\n",
        "            index_row = index_new_letter % len(self.row)\n",
        "            new_letter = self.column[index_column] + self.row[index_row]\n",
        "\n",
        "        return new_letter\n",
        "\n",
        "    def map_function_b(self, double_letters):\n",
        "        index_column = self.column.index(double_letters[0])\n",
        "        index_column = index_column * len(self.column)\n",
        "        index_row = self.row.index(double_letters[1])\n",
        "        \n",
        "        index = index_column + index_row\n",
        "\n",
        "        return self.key[index]\n",
        "\n",
        "    def encrypt(self, message, key, column='ABCDE', row='ABCDE'):\n",
        "        self.key = key.lower()\n",
        "        self.column = column\n",
        "        self.row = row\n",
        "\n",
        "        encrypted_message = map(self.map_function, message)\n",
        "        encrypted_message = list(encrypted_message)\n",
        "        encrypted_message = ''.join(encrypted_message)\n",
        "\n",
        "        return encrypted_message\n",
        "\n",
        "    \n",
        "    def decrypt(self, message, key):\n",
        "        self.key = key\n",
        "        message = message.split(' ')\n",
        "        message = [[word[x]+word[x+1] for x in range(0, len(word), 2)] for word in message]\n",
        "\n",
        "        encrypted_message = [map(self.map_function_b, word) for word in message]\n",
        "        encrypted_message = [list(maps) for maps in encrypted_message]\n",
        "        encrypted_message = list(map(''.join, encrypted_message))\n",
        "        encrypted_message = ' '.join(encrypted_message)\n",
        "\n",
        "        return encrypted_message"
      ],
      "execution_count": 17,
      "outputs": []
    },
    {
      "cell_type": "code",
      "metadata": {
        "id": "-NBJNZUsoIj4"
      },
      "source": [
        "psc = PolybiusSquareCipher()"
      ],
      "execution_count": 18,
      "outputs": []
    },
    {
      "cell_type": "code",
      "metadata": {
        "colab": {
          "base_uri": "https://localhost:8080/",
          "height": 35
        },
        "id": "w36yD5V4oK2H",
        "outputId": "b71b6a2c-5d6b-4b64-b3b1-560bb8f37f0d"
      },
      "source": [
        "key = 'phqgiumeaylnofdxkrcvstzwb'\n",
        "cyphar = psc.encrypt('defend the east wall of the castle', key)\n",
        "cyphar"
      ],
      "execution_count": 19,
      "outputs": [
        {
          "output_type": "execute_result",
          "data": {
            "application/vnd.google.colaboratory.intrinsic+json": {
              "type": "string"
            },
            "text/plain": [
              "'CEBCCDBCCBCE EBABBC BCBDEAEB EDBDCACA CCCD EBABBC DDBDEAEBCABC'"
            ]
          },
          "metadata": {
            "tags": []
          },
          "execution_count": 19
        }
      ]
    },
    {
      "cell_type": "code",
      "metadata": {
        "colab": {
          "base_uri": "https://localhost:8080/",
          "height": 35
        },
        "id": "6d0nb55_pMtg",
        "outputId": "0f406e2d-c47c-4244-df1e-7a486f09b49a"
      },
      "source": [
        "psc.decrypt(cyphar, key)"
      ],
      "execution_count": 20,
      "outputs": [
        {
          "output_type": "execute_result",
          "data": {
            "application/vnd.google.colaboratory.intrinsic+json": {
              "type": "string"
            },
            "text/plain": [
              "'defend the east wall of the castle'"
            ]
          },
          "metadata": {
            "tags": []
          },
          "execution_count": 20
        }
      ]
    }
  ]
}